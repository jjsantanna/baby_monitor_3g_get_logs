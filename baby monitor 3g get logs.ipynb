{
 "cells": [
  {
   "cell_type": "markdown",
   "metadata": {},
   "source": [
    "#  Get logs stored (on MacOS) by Baby Monitor 3g\n",
    "To discover where the files are locate, (1) open the Baby monitor 3G on Mac OS, (2) Open the 'Activity Monitor' of the system, (3) double click the Baby monitor, (4) open open files and ports, then (5) search for <something>Log.db "
   ]
  },
  {
   "cell_type": "code",
   "execution_count": 28,
   "metadata": {},
   "outputs": [],
   "source": [
    "SQLITE_DB_FILE = '/Users/santannajj/Library/Containers/com.tappytaps.babymonitor3gmac/Data/Documents/activityLog.db'"
   ]
  },
  {
   "cell_type": "code",
   "execution_count": 29,
   "metadata": {},
   "outputs": [],
   "source": [
    "import sqlite3\n",
    "import pandas as pd"
   ]
  },
  {
   "cell_type": "markdown",
   "metadata": {},
   "source": [
    "## Listing all the tables"
   ]
  },
  {
   "cell_type": "code",
   "execution_count": 30,
   "metadata": {},
   "outputs": [
    {
     "name": "stdout",
     "output_type": "stream",
     "text": [
      "[('_schemaRevision',), ('_entityRevision',), ('DBALMonitoringEvent',), ('sqlite_sequence',), ('DBALMonitoringSession',)]\n"
     ]
    }
   ],
   "source": [
    "db = sqlite3.connect(SQLITE_DB_FILE)\n",
    "cursor = db.cursor()\n",
    "cursor.execute(\"SELECT name FROM sqlite_master WHERE type='table';\")\n",
    "print(cursor.fetchall())"
   ]
  },
  {
   "cell_type": "markdown",
   "metadata": {},
   "source": [
    "### The most important is the: 'DBALMonitoringEvent'\n"
   ]
  },
  {
   "cell_type": "code",
   "execution_count": 31,
   "metadata": {},
   "outputs": [],
   "source": [
    "table = pd.read_sql_query(\"SELECT * from DBALMonitoringEvent\", db)"
   ]
  },
  {
   "cell_type": "code",
   "execution_count": 36,
   "metadata": {},
   "outputs": [
    {
     "data": {
      "text/html": [
       "<div>\n",
       "<style scoped>\n",
       "    .dataframe tbody tr th:only-of-type {\n",
       "        vertical-align: middle;\n",
       "    }\n",
       "\n",
       "    .dataframe tbody tr th {\n",
       "        vertical-align: top;\n",
       "    }\n",
       "\n",
       "    .dataframe thead th {\n",
       "        text-align: right;\n",
       "    }\n",
       "</style>\n",
       "<table border=\"1\" class=\"dataframe\">\n",
       "  <thead>\n",
       "    <tr style=\"text-align: right;\">\n",
       "      <th></th>\n",
       "      <th>Id</th>\n",
       "      <th>end</th>\n",
       "      <th>monitoringSession</th>\n",
       "      <th>active</th>\n",
       "      <th>babyName</th>\n",
       "      <th>start</th>\n",
       "      <th>soundLength</th>\n",
       "      <th>strongSelf</th>\n",
       "      <th>type</th>\n",
       "      <th>weakSelf</th>\n",
       "      <th>soundFile</th>\n",
       "    </tr>\n",
       "  </thead>\n",
       "  <tbody>\n",
       "    <tr>\n",
       "      <th>0</th>\n",
       "      <td>1</td>\n",
       "      <td>1.552940e+09</td>\n",
       "      <td>1</td>\n",
       "      <td>0</td>\n",
       "      <td>None</td>\n",
       "      <td>1.552940e+09</td>\n",
       "      <td>0.00</td>\n",
       "      <td>None</td>\n",
       "      <td>3</td>\n",
       "      <td>None</td>\n",
       "      <td>None</td>\n",
       "    </tr>\n",
       "    <tr>\n",
       "      <th>1</th>\n",
       "      <td>2</td>\n",
       "      <td>1.552940e+09</td>\n",
       "      <td>1</td>\n",
       "      <td>0</td>\n",
       "      <td>None</td>\n",
       "      <td>1.552940e+09</td>\n",
       "      <td>0.00</td>\n",
       "      <td>None</td>\n",
       "      <td>2</td>\n",
       "      <td>None</td>\n",
       "      <td>None</td>\n",
       "    </tr>\n",
       "    <tr>\n",
       "      <th>2</th>\n",
       "      <td>3</td>\n",
       "      <td>1.552940e+09</td>\n",
       "      <td>1</td>\n",
       "      <td>0</td>\n",
       "      <td>None</td>\n",
       "      <td>1.552940e+09</td>\n",
       "      <td>2.20</td>\n",
       "      <td>None</td>\n",
       "      <td>1</td>\n",
       "      <td>None</td>\n",
       "      <td>Baby Monitor 3G - 2019-03-18 21.18.58.mp3</td>\n",
       "    </tr>\n",
       "    <tr>\n",
       "      <th>3</th>\n",
       "      <td>4</td>\n",
       "      <td>1.552940e+09</td>\n",
       "      <td>1</td>\n",
       "      <td>0</td>\n",
       "      <td>None</td>\n",
       "      <td>1.552940e+09</td>\n",
       "      <td>0.00</td>\n",
       "      <td>None</td>\n",
       "      <td>2</td>\n",
       "      <td>None</td>\n",
       "      <td>None</td>\n",
       "    </tr>\n",
       "    <tr>\n",
       "      <th>4</th>\n",
       "      <td>5</td>\n",
       "      <td>1.552940e+09</td>\n",
       "      <td>1</td>\n",
       "      <td>0</td>\n",
       "      <td>None</td>\n",
       "      <td>1.552940e+09</td>\n",
       "      <td>41.86</td>\n",
       "      <td>None</td>\n",
       "      <td>1</td>\n",
       "      <td>None</td>\n",
       "      <td>Baby Monitor 3G - 2019-03-18 21.19.13.mp3</td>\n",
       "    </tr>\n",
       "  </tbody>\n",
       "</table>\n",
       "</div>"
      ],
      "text/plain": [
       "   Id           end  monitoringSession  active babyName         start  \\\n",
       "0   1  1.552940e+09                  1       0     None  1.552940e+09   \n",
       "1   2  1.552940e+09                  1       0     None  1.552940e+09   \n",
       "2   3  1.552940e+09                  1       0     None  1.552940e+09   \n",
       "3   4  1.552940e+09                  1       0     None  1.552940e+09   \n",
       "4   5  1.552940e+09                  1       0     None  1.552940e+09   \n",
       "\n",
       "   soundLength strongSelf  type weakSelf  \\\n",
       "0         0.00       None     3     None   \n",
       "1         0.00       None     2     None   \n",
       "2         2.20       None     1     None   \n",
       "3         0.00       None     2     None   \n",
       "4        41.86       None     1     None   \n",
       "\n",
       "                                   soundFile  \n",
       "0                                       None  \n",
       "1                                       None  \n",
       "2  Baby Monitor 3G - 2019-03-18 21.18.58.mp3  \n",
       "3                                       None  \n",
       "4  Baby Monitor 3G - 2019-03-18 21.19.13.mp3  "
      ]
     },
     "execution_count": 36,
     "metadata": {},
     "output_type": "execute_result"
    }
   ],
   "source": [
    "table.head()"
   ]
  }
 ],
 "metadata": {
  "kernelspec": {
   "display_name": "Python 3",
   "language": "python",
   "name": "python3"
  },
  "language_info": {
   "codemirror_mode": {
    "name": "ipython",
    "version": 3
   },
   "file_extension": ".py",
   "mimetype": "text/x-python",
   "name": "python",
   "nbconvert_exporter": "python",
   "pygments_lexer": "ipython3",
   "version": "3.7.0"
  }
 },
 "nbformat": 4,
 "nbformat_minor": 2
}
